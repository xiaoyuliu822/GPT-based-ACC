{
 "cells": [
  {
   "cell_type": "code",
   "execution_count": 2,
   "id": "e2cc480d",
   "metadata": {},
   "outputs": [
    {
     "name": "stdout",
     "output_type": "stream",
     "text": [
      "Train Data Shape: (168, 2)\n",
      "Validation Data Shape: (21, 2)\n",
      "Test Data Shape: (22, 2)\n",
      "Split datasets saved as train_data.xlsx, validation_data.xlsx, and test_data.xlsx\n"
     ]
    }
   ],
   "source": [
    "import numpy as np\n",
    "import pandas as pd\n",
    "from sklearn.model_selection import train_test_split\n",
    "\n",
    "excel_file = 'Original_dataset.xlsx'\n",
    "\n",
    "# Read the Excel file into a pandas DataFrame\n",
    "dataset = pd.read_excel(excel_file, engine='openpyxl')\n",
    "\n",
    "# Split the dataset into training, validation, and testing parts with an 8:1:1 ratio\n",
    "train_ratio = 0.8\n",
    "validation_ratio = 0.1\n",
    "test_ratio = 0.1\n",
    "\n",
    "# First, split the dataset into train_data and temp_data (9:1 ratio)\n",
    "train_data, temp_data = train_test_split(dataset, test_size=1-train_ratio, random_state=42)\n",
    "\n",
    "# Next, split temp_data into validation_data and test_data (1:1 ratio)\n",
    "validation_data, test_data = train_test_split(temp_data, test_size=test_ratio/(test_ratio + validation_ratio), random_state=42)\n",
    "\n",
    "# Save the split datasets as separate Excel files\n",
    "train_data.to_excel('train_data.xlsx', index=False, engine='openpyxl')\n",
    "validation_data.to_excel('validation_data.xlsx', index=False, engine='openpyxl')\n",
    "test_data.to_excel('test_data.xlsx', index=False, engine='openpyxl')\n",
    "\n",
    "print(\"Train Data Shape:\", train_data.shape)\n",
    "print(\"Validation Data Shape:\", validation_data.shape)\n",
    "print(\"Test Data Shape:\", test_data.shape)\n",
    "print(\"Split datasets saved as train_data.xlsx, validation_data.xlsx, and test_data.xlsx\")\n"
   ]
  },
  {
   "cell_type": "code",
   "execution_count": null,
   "id": "166351d4",
   "metadata": {},
   "outputs": [],
   "source": [
    "# Please apply following code in Terminal, it converts dataset into .jsonl format\n",
    "openai tools fine_tunes.prepare_data -f train_data.xlsx"
   ]
  }
 ],
 "metadata": {
  "kernelspec": {
   "display_name": "Python 3 (ipykernel)",
   "language": "python",
   "name": "python3"
  },
  "language_info": {
   "codemirror_mode": {
    "name": "ipython",
    "version": 3
   },
   "file_extension": ".py",
   "mimetype": "text/x-python",
   "name": "python",
   "nbconvert_exporter": "python",
   "pygments_lexer": "ipython3",
   "version": "3.8.16"
  }
 },
 "nbformat": 4,
 "nbformat_minor": 5
}
